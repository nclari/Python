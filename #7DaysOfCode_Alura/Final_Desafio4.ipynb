{
 "cells": [
  {
   "cell_type": "code",
   "execution_count": 1,
   "id": "5ad3f252-4eff-48a6-9d0d-458220256b13",
   "metadata": {},
   "outputs": [],
   "source": [
    "import pandas as pd\n",
    "import numpy as ny"
   ]
  },
  {
   "cell_type": "code",
   "execution_count": null,
   "id": "2329e88d-08e9-4962-afb9-1e9117d70d69",
   "metadata": {},
   "outputs": [],
   "source": [
    "#Lê dataframe criado com histórico de emprestimos\n",
    "emprestimos = pd.read_csv('/Users/Clarice Nascimento/0. Alura/emprestimos.csv')\n",
    "emprestimos.head()"
   ]
  },
  {
   "cell_type": "code",
   "execution_count": null,
   "id": "32ee33c2-f173-4739-91e4-b0b19edacf86",
   "metadata": {},
   "outputs": [],
   "source": [
    "#Cria função para calculo das tabelas de frequencias a partir de uma variavel categorica \n",
    "def percentual(variavel):\n",
    "  '''\n",
    "  Esta função irá gerar uma tabela de frequência com percentuais de acordo \n",
    "  com a variável passada. \n",
    "\n",
    "  variavel = variável categórica escolhida de dentro do conjunto de dados \n",
    "  emprestimos_completo\n",
    "  '''\n",
    "\n",
    "  dataframe = pd.DataFrame(emprestimos[variavel].value_counts())                      \n",
    "  dataframe.columns = ['quantidade']\n",
    "  dataframe['percentual'] = round((dataframe.quantidade / dataframe.quantidade.sum())*100,1)\n",
    "\n",
    "  return dataframe"
   ]
  },
  {
   "cell_type": "code",
   "execution_count": null,
   "id": "3fe10e0b-3fe5-4dc1-8e4c-a08385de0678",
   "metadata": {},
   "outputs": [],
   "source": [
    "#Tabela de frequencia para Coleções do acervo\n",
    "percentual('colecao')"
   ]
  },
  {
   "cell_type": "markdown",
   "id": "81647c34-9f39-4a4e-a960-80cfa64df1fe",
   "metadata": {},
   "source": [
    "Temos que a Coleção Circulante tem praticamente a maior ocorrência em emprestimos ao total do acervo, o que também gera alerta para os demais índices que estão em baixa. "
   ]
  },
  {
   "cell_type": "code",
   "execution_count": null,
   "id": "570551b2-7f43-471c-a099-b63116d6f5fb",
   "metadata": {},
   "outputs": [],
   "source": [
    "#Tabela de frequencia para unidades de Bibliotecas\n",
    "percentual('biblioteca')"
   ]
  },
  {
   "cell_type": "markdown",
   "id": "efcd0d0f-56d4-43ab-b50d-609debeb297c",
   "metadata": {},
   "source": [
    "Pela quantidade de exemplares emprestados, esperava-se realmente a predominancia da Biblioteca Central Zila Mamede com a maior frequencia frente as demais unidades.\n",
    "Com isso, também podemos entrar com ações para reavaliar os acervos contidos em cada unidade e investigar o compartamento dos usuários em cada localidade, como quantidade de emprestimos por aluno, a fim de melhorar os índices de emprestimos nas bibliotecas. "
   ]
  },
  {
   "cell_type": "code",
   "execution_count": null,
   "id": "7d8b2748-4236-458d-bd50-ce6a308e5c1c",
   "metadata": {},
   "outputs": [],
   "source": [
    "#Tabela de frequencia para Classes gerais dos exemplares\n",
    "percentual('descricao')"
   ]
  },
  {
   "cell_type": "markdown",
   "id": "88fb836d-b475-4d98-a3fe-58a75e3b9d60",
   "metadata": {},
   "source": [
    "A partir das classes gerias dos exemplares, vemos que a maior concentração está em livros de Ciencias aplicadas. De modo geral, a diferença entre os \n",
    "demais exemplares também é acentuada, o que vale investigar de temos um acervo que cobre as necessidades dos usuários e seus cursos.  "
   ]
  },
  {
   "cell_type": "code",
   "execution_count": null,
   "id": "a6e2a329-fe43-4975-87cc-f61497daf8a9",
   "metadata": {},
   "outputs": [],
   "source": [
    "#Tabela de frequencia para Tipo de vinculo dos usuários com as bibliotecas\n",
    "percentual('tipo_vinculo_usuario')"
   ]
  },
  {
   "cell_type": "markdown",
   "id": "92f389bf-7dcc-4fad-beb5-31cdafe72323",
   "metadata": {},
   "source": [
    "Por fim, vemos que a maior parte dos usuários são alunos de graduação, seguidos dos alunos de pós graduação e docentes da unidades, o que, de certa forma reflete o comportamento de instituições de ensino, onde a maior incidência está sobre alunos de bacharelado/licenciatura. "
   ]
  },
  {
   "cell_type": "code",
   "execution_count": null,
   "id": "f908e2ad-c622-4663-8ebd-7f0ad5f77505",
   "metadata": {},
   "outputs": [],
   "source": []
  }
 ],
 "metadata": {
  "kernelspec": {
   "display_name": "Python 3 (ipykernel)",
   "language": "python",
   "name": "python3"
  },
  "language_info": {
   "codemirror_mode": {
    "name": "ipython",
    "version": 3
   },
   "file_extension": ".py",
   "mimetype": "text/x-python",
   "name": "python",
   "nbconvert_exporter": "python",
   "pygments_lexer": "ipython3",
   "version": "3.11.7"
  }
 },
 "nbformat": 4,
 "nbformat_minor": 5
}
